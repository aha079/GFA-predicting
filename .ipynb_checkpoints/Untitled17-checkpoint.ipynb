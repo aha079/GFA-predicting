{
 "cells": [
  {
   "cell_type": "code",
   "execution_count": 1,
   "metadata": {},
   "outputs": [],
   "source": [
    "import numpy as np\n",
    "import matplotlib.pyplot as plt\n",
    "import pandas as pd\n",
    "from sklearn.model_selection import GridSearchCV\n",
    "from sklearn.pipeline import Pipeline\n",
    "import xlsxwriter"
   ]
  },
  {
   "cell_type": "code",
   "execution_count": 2,
   "metadata": {},
   "outputs": [
    {
     "data": {
      "text/html": [
       "<div>\n",
       "<style scoped>\n",
       "    .dataframe tbody tr th:only-of-type {\n",
       "        vertical-align: middle;\n",
       "    }\n",
       "\n",
       "    .dataframe tbody tr th {\n",
       "        vertical-align: top;\n",
       "    }\n",
       "\n",
       "    .dataframe thead th {\n",
       "        text-align: right;\n",
       "    }\n",
       "</style>\n",
       "<table border=\"1\" class=\"dataframe\">\n",
       "  <thead>\n",
       "    <tr style=\"text-align: right;\">\n",
       "      <th></th>\n",
       "      <th>Yield Strength</th>\n",
       "      <th>Fracture Strain</th>\n",
       "      <th>Plasic Strain</th>\n",
       "      <th>Number of Cycles</th>\n",
       "      <th>P.S. After (Y)</th>\n",
       "    </tr>\n",
       "  </thead>\n",
       "  <tbody>\n",
       "    <tr>\n",
       "      <th>0</th>\n",
       "      <td>1262</td>\n",
       "      <td>4.6</td>\n",
       "      <td>3.3</td>\n",
       "      <td>30</td>\n",
       "      <td>2.6</td>\n",
       "    </tr>\n",
       "    <tr>\n",
       "      <th>1</th>\n",
       "      <td>1660</td>\n",
       "      <td>5.8</td>\n",
       "      <td>4.4</td>\n",
       "      <td>30</td>\n",
       "      <td>12.5</td>\n",
       "    </tr>\n",
       "    <tr>\n",
       "      <th>2</th>\n",
       "      <td>1638</td>\n",
       "      <td>7.0</td>\n",
       "      <td>5.6</td>\n",
       "      <td>30</td>\n",
       "      <td>13.1</td>\n",
       "    </tr>\n",
       "    <tr>\n",
       "      <th>3</th>\n",
       "      <td>1620</td>\n",
       "      <td>10.5</td>\n",
       "      <td>9.0</td>\n",
       "      <td>30</td>\n",
       "      <td>14.4</td>\n",
       "    </tr>\n",
       "    <tr>\n",
       "      <th>4</th>\n",
       "      <td>1876</td>\n",
       "      <td>6.6</td>\n",
       "      <td>4.0</td>\n",
       "      <td>30</td>\n",
       "      <td>11.0</td>\n",
       "    </tr>\n",
       "  </tbody>\n",
       "</table>\n",
       "</div>"
      ],
      "text/plain": [
       "   Yield Strength  Fracture Strain  Plasic Strain  Number of Cycles  \\\n",
       "0            1262              4.6            3.3                30   \n",
       "1            1660              5.8            4.4                30   \n",
       "2            1638              7.0            5.6                30   \n",
       "3            1620             10.5            9.0                30   \n",
       "4            1876              6.6            4.0                30   \n",
       "\n",
       "   P.S. After (Y)  \n",
       "0             2.6  \n",
       "1            12.5  \n",
       "2            13.1  \n",
       "3            14.4  \n",
       "4            11.0  "
      ]
     },
     "execution_count": 2,
     "metadata": {},
     "output_type": "execute_result"
    }
   ],
   "source": [
    "dataset = pd.read_csv(\"Dataset.csv\",usecols = ['Yield Strength','Fracture Strain','Plasic Strain','Number of Cycles','P.S. After (Y)'])\n",
    "dataset.head(5)"
   ]
  },
  {
   "cell_type": "code",
   "execution_count": 3,
   "metadata": {},
   "outputs": [],
   "source": [
    "m=[]\n",
    "X = dataset.iloc[:,0:4].values.astype(float)\n",
    "m.append(min(X[:,0]))\n",
    "m.append(max(X[:,0]))\n",
    "X[:,0] = (X[:,0] - min(X[:,0]))/(max(X[:,0])-min(X[:,0]))\n",
    "m.append(min(X[:,1]))\n",
    "m.append(max(X[:,1]))\n",
    "X[:,1] = (X[:,1] - min(X[:,1]))/(max(X[:,1])-min(X[:,1]))\n",
    "m.append(min(X[:,2]))\n",
    "m.append(max(X[:,2]))\n",
    "X[:,2] = (X[:,2] - min(X[:,2]))/(max(X[:,2])-min(X[:,2]))\n",
    "m.append(min(X[:,3]))\n",
    "m.append(max(X[:,3]))\n",
    "X[:,3] = (X[:,3] - min(X[:,3]))/(max(X[:,3])-min(X[:,3]))\n",
    "y = dataset.iloc[:,4].values.astype(float)"
   ]
  },
  {
   "cell_type": "code",
   "execution_count": 10,
   "metadata": {},
   "outputs": [
    {
     "name": "stdout",
     "output_type": "stream",
     "text": [
      "[ 2  3  7 10 12 18]\n",
      "predicted Value in test set with RandomForest:\n",
      "[12.2   12.2    1.98  43.06   2.436  3.428]\n",
      "[ 0  1  4  5  6  8  9 11 13 14 15 16 17]\n",
      "[ 3.62  12.2   10.104  7.7    7.22   4.82  18.38  43.06   1.416  1.54\n",
      "  3.826  4.028  3.428]\n",
      "Test accuracy result in RandomForest: 0.9560957906068877\n",
      "Train accuracy result in RandomForest: 0.9383982140516509\n",
      "0.9560957906068877\n",
      "Test accuracy average in RandomForest: 0.41809166510158047\n",
      "Train accuracy average in RandomForest: 0.7719383890779188\n"
     ]
    }
   ],
   "source": [
    "from sklearn.svm import SVR\n",
    "from sklearn.model_selection import RepeatedKFold,ShuffleSplit\n",
    "from sklearn.ensemble import RandomForestRegressor\n",
    "from sklearn.feature_selection import RFE \n",
    "from sklearn import metrics\n",
    "cv = RepeatedKFold(n_splits=3, n_repeats=2, random_state=123)\n",
    "count1RF=0\n",
    "count2RF=0\n",
    "maxR2=0\n",
    "selector = RandomForestRegressor(max_depth= 6,n_estimators=5, random_state=False)\n",
    "for train, test in cv.split(y):\n",
    "    selector = selector.fit(X[train], y[train])\n",
    "    y_pred2 = selector.predict(X[test])\n",
    "    x_pred2 = selector.predict(X[train])\n",
    "    R2test2=1-(((y[test] - y_pred2) ** 2).sum())/((y[test] - y[test].mean()) ** 2).sum()\n",
    "    R2train2=1-(((y[train] - x_pred2) ** 2).sum())/((y[train] - y[train].mean()) ** 2).sum()\n",
    "    count1RF+=R2test2\n",
    "    count2RF+=R2train2\n",
    "    maxR2=max(maxR2,R2test2)\n",
    "    if maxR2>0.95:\n",
    "        print(test)\n",
    "        print(\"predicted Value in test set with RandomForest:\")\n",
    "        print(y_pred2)\n",
    "        print(train)\n",
    "        print(x_pred2)\n",
    "        print(\"Test accuracy result in RandomForest:\",R2test2)\n",
    "        print(\"Train accuracy result in RandomForest:\",R2train2)\n",
    "        break\n",
    "        #    pri)nt(\"------------------------------------------------------------print(\")\n",
    "    #    break)\n",
    "print(maxR2)\n",
    "#print(selector.support_)\n",
    "#print(selector.ranking_)\n",
    "print(\"Test accuracy average in RandomForest:\",count1RF/6.0)\n",
    "print(\"Train accuracy average in RandomForest:\",count2RF/6.0)"
   ]
  },
  {
   "cell_type": "code",
   "execution_count": null,
   "metadata": {},
   "outputs": [],
   "source": []
  }
 ],
 "metadata": {
  "kernelspec": {
   "display_name": "Python 3",
   "language": "python",
   "name": "python3"
  },
  "language_info": {
   "codemirror_mode": {
    "name": "ipython",
    "version": 3
   },
   "file_extension": ".py",
   "mimetype": "text/x-python",
   "name": "python",
   "nbconvert_exporter": "python",
   "pygments_lexer": "ipython3",
   "version": "3.8.5"
  }
 },
 "nbformat": 4,
 "nbformat_minor": 4
}
